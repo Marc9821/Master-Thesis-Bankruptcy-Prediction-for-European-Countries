{
 "cells": [
  {
   "cell_type": "markdown",
   "metadata": {},
   "source": [
    "Load modules"
   ]
  },
  {
   "cell_type": "code",
   "execution_count": null,
   "metadata": {},
   "outputs": [],
   "source": [
    "from mlxtend.evaluate import combined_ftest_5x2cv\n",
    "from itertools import combinations\n",
    "from joblib import load\n",
    "import pandas as pd\n",
    "import numpy as np\n",
    "import warnings\n",
    "warnings.filterwarnings(action=\"ignore\")"
   ]
  },
  {
   "cell_type": "markdown",
   "metadata": {},
   "source": [
    "Define path"
   ]
  },
  {
   "cell_type": "code",
   "execution_count": null,
   "metadata": {},
   "outputs": [],
   "source": [
    "path = 'F:/Marc/Github/Masterthesis Final/models/'"
   ]
  },
  {
   "cell_type": "markdown",
   "metadata": {},
   "source": [
    "Load the trained models"
   ]
  },
  {
   "cell_type": "code",
   "execution_count": null,
   "metadata": {},
   "outputs": [],
   "source": [
    "lr_model = load(path+'output-log-reg0.joblib')\n",
    "knn_model = load(path+'output-neigh0.joblib')\n",
    "rf_model = load(path+'output-rfc0.joblib')\n",
    "svm_model = load(path+'output-svmc0.joblib')\n",
    "xgb_model = load(path+'output-xgb0.joblib')\n",
    "lgbm_model = load(path+'output-lgbm0.joblib')\n",
    "\n",
    "model_list = [(lr_model, 'LR'), (knn_model, 'KNN'), (rf_model, 'RF'), (svm_model, 'SVM'), (xgb_model, 'XGB'), (lgbm_model, 'LGBM')]"
   ]
  },
  {
   "cell_type": "markdown",
   "metadata": {},
   "source": [
    "Load the X and y lists"
   ]
  },
  {
   "cell_type": "code",
   "execution_count": null,
   "metadata": {},
   "outputs": [],
   "source": [
    "y_list = np.load('F:/Marc/Github/Masterthesis/quick_datasets/y_list.npy', allow_pickle=True).tolist()\n",
    "X_list = np.load('F:/Marc/Github/Masterthesis/quick_datasets/X_list.npy', allow_pickle=True).tolist()"
   ]
  },
  {
   "cell_type": "markdown",
   "metadata": {},
   "source": [
    "Perform 5x2cv F tests (all possible combinations)"
   ]
  },
  {
   "cell_type": "code",
   "execution_count": null,
   "metadata": {},
   "outputs": [],
   "source": [
    "for models in combinations(model_list, 2):\n",
    "    f, p = combined_ftest_5x2cv(estimator1=models[0][0], estimator2=models[1][0], X=X_list[0][1], y=y_list[0][1], random_seed=1, scoring='average_precision')\n",
    "\n",
    "    print(f'Combination of {models[0][1]} and {models[1][1]}')\n",
    "    print(f'F statistic: {round(f,4)}')\n",
    "    print(f'p value: {round(p,4)}')"
   ]
  },
  {
   "cell_type": "markdown",
   "metadata": {},
   "source": [
    "Perform 5x2cv F tests on SMOTE-ENN"
   ]
  },
  {
   "cell_type": "code",
   "execution_count": null,
   "metadata": {},
   "outputs": [],
   "source": [
    "lr_model0 = load(path+'output-log-reg0.joblib')\n",
    "lr_model1 = load(path+'output-log-reg1.joblib')\n",
    "lr_model2 = load(path+'output-log-reg2.joblib')\n",
    "lr_model3 = load(path+'output-log-reg3.joblib')\n",
    "lr_model4 = load(path+'output-log-reg4.joblib')\n",
    "lr_model5 = load(path+'output-log-reg5.joblib')\n",
    "lr_model6 = load(path+'output-log-reg6.joblib')\n",
    "lr_model7 = load(path+'output-log-reg7.joblib')\n",
    "\n",
    "lr_models = [(\"LR 0\",lr_model0),(\"LR 1\",lr_model1),(\"LR 2\",lr_model2),(\"LR 3\",lr_model3),(\"LR 4\",lr_model4),(\"LR 5\",lr_model5),(\"LR 6\",lr_model6),(\"LR 7\",lr_model7)]\n",
    "\n",
    "svm_model0 = load(path+'output-svmc0.joblib')\n",
    "svm_model1 = load(path+'output-svmc1.joblib')\n",
    "svm_model2 = load(path+'output-svmc2.joblib')\n",
    "svm_model3 = load(path+'output-svmc3.joblib')\n",
    "svm_model4 = load(path+'output-svmc4.joblib')\n",
    "svm_model5 = load(path+'output-svmc5.joblib')\n",
    "svm_model6 = load(path+'output-svmc6.joblib')\n",
    "svm_model7 = load(path+'output-svmc7.joblib')\n",
    "\n",
    "svm_models = [(\"SVM 0\",svm_model0),(\"SVM 1\",svm_model1),(\"SVM 2\",svm_model2),(\"SVM 3\",svm_model3),(\"SVM 4\",svm_model4),(\"SVM 5\",svm_model5),(\"SVM 6\",svm_model6),(\"SVM 7\",svm_model7)]\n",
    "\n",
    "neigh_model3 = load(path+'output-neigh2.joblib')\n",
    "neigh_model7 = load(path+'output-neigh6.joblib')\n",
    "rf_model3 = load(path+'output-rfc2.joblib')\n",
    "rf_model7 = load(path+'output-rfc6.joblib')\n",
    "xgb_model3 = load(path+'output-xgb2.joblib')\n",
    "xgb_model7 = load(path+'output-xgb6.joblib')\n",
    "lgbm_model3 = load(path+'output-lgbm2.joblib')\n",
    "lgbm_model7 = load(path+'output-lgbm6.joblib')\n",
    "\n",
    "smote_models = [(\"LR\",lr_model2,lr_model6),(\"KNN\",neigh_model3,neigh_model7),(\"RF\",rf_model3,rf_model7),(\"SVM\",svm_model2,svm_model6),(\"XGB\",xgb_model3,xgb_model7),(\"LGBM\",lgbm_model3,lgbm_model7)]"
   ]
  },
  {
   "cell_type": "markdown",
   "metadata": {},
   "source": [
    "LR Models"
   ]
  },
  {
   "cell_type": "code",
   "execution_count": null,
   "metadata": {},
   "outputs": [],
   "source": [
    "for i in range(0, 4):\n",
    "    f, p = combined_ftest_5x2cv(estimator1=lr_models[i][1], estimator2=lr_models[i+4][1], X=X_list[i][1], y=y_list[i][1], random_seed=1, scoring='average_precision')\n",
    "\n",
    "    print(f'Combination of {lr_models[i][0]} and {lr_models[i+4][0]}')\n",
    "    print(f'F statistic: {round(f,4)}')\n",
    "    print(f'p value: {round(p,4)}')"
   ]
  },
  {
   "cell_type": "markdown",
   "metadata": {},
   "source": [
    "SVM Models"
   ]
  },
  {
   "cell_type": "code",
   "execution_count": null,
   "metadata": {},
   "outputs": [],
   "source": [
    "for i in range(0, 4):\n",
    "    f, p = combined_ftest_5x2cv(estimator1=svm_models[i][1], estimator2=svm_models[i+4][1], X=X_list[i][1], y=y_list[i][1], random_seed=1, scoring='average_precision')\n",
    "\n",
    "    print(f'Combination of {svm_models[i][0]} and {svm_models[i+4][0]}')\n",
    "    print(f'F statistic: {round(f,4)}')\n",
    "    print(f'p value: {round(p,4)}')"
   ]
  },
  {
   "cell_type": "markdown",
   "metadata": {},
   "source": [
    "Models 3 and Models 7"
   ]
  },
  {
   "cell_type": "code",
   "execution_count": null,
   "metadata": {},
   "outputs": [],
   "source": [
    "for i in range(0, 1):\n",
    "    f, p = combined_ftest_5x2cv(estimator1=smote_models[i][1], estimator2=smote_models[i][2], X=X_list[2][1], y=y_list[2][1], random_seed=1, scoring='average_precision')\n",
    "\n",
    "    print(f'Combination of {smote_models[i][0]}')\n",
    "    print(f'F statistic: {round(f,4)}')\n",
    "    print(f'p value: {round(p,4)}')"
   ]
  },
  {
   "cell_type": "code",
   "execution_count": null,
   "metadata": {},
   "outputs": [],
   "source": [
    "for i in range(1, 2):\n",
    "    f, p = combined_ftest_5x2cv(estimator1=smote_models[i][1], estimator2=smote_models[i][2], X=X_list[2][1], y=y_list[2][1], random_seed=1, scoring='average_precision')\n",
    "\n",
    "    print(f'Combination of {smote_models[i][0]}')\n",
    "    print(f'F statistic: {round(f,4)}')\n",
    "    print(f'p value: {round(p,4)}')"
   ]
  },
  {
   "cell_type": "code",
   "execution_count": null,
   "metadata": {},
   "outputs": [],
   "source": [
    "for i in range(2, 6):\n",
    "    f, p = combined_ftest_5x2cv(estimator1=smote_models[i][1], estimator2=smote_models[i][2], X=X_list[2][1], y=y_list[2][1], random_seed=1, scoring='average_precision')\n",
    "\n",
    "    print(f'Combination of {smote_models[i][0]}')\n",
    "    print(f'F statistic: {round(f,4)}')\n",
    "    print(f'p value: {round(p,4)}')"
   ]
  }
 ],
 "metadata": {
  "interpreter": {
   "hash": "aef203514c858290544fd6a14248b5f64855080360fc299c24eb5474b48fd873"
  },
  "kernelspec": {
   "display_name": "Python 3.9.7 ('venv': venv)",
   "language": "python",
   "name": "python3"
  },
  "language_info": {
   "codemirror_mode": {
    "name": "ipython",
    "version": 3
   },
   "file_extension": ".py",
   "mimetype": "text/x-python",
   "name": "python",
   "nbconvert_exporter": "python",
   "pygments_lexer": "ipython3",
   "version": "3.9.7"
  },
  "orig_nbformat": 4
 },
 "nbformat": 4,
 "nbformat_minor": 2
}
