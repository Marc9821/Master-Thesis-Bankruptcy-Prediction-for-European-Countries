{
 "cells": [
  {
   "cell_type": "markdown",
   "metadata": {},
   "source": [
    "Load Modules"
   ]
  },
  {
   "cell_type": "code",
   "execution_count": null,
   "metadata": {},
   "outputs": [],
   "source": [
    "from sklearn.metrics import RocCurveDisplay\n",
    "from matplotlib import pyplot as plt\n",
    "from joblib import load\n",
    "import numpy as np"
   ]
  },
  {
   "cell_type": "markdown",
   "metadata": {},
   "source": [
    "Specify Path"
   ]
  },
  {
   "cell_type": "code",
   "execution_count": null,
   "metadata": {},
   "outputs": [],
   "source": [
    "path = 'F:/Marc/Github/Masterthesis Final/models/'\n",
    "\n",
    "y_true = np.load('F:/Marc/Github/Masterthesis/quick_datasets/y_list.npy', allow_pickle=True).tolist()\n",
    "X_list = np.load('F:/Marc/Github/Masterthesis/quick_datasets/X_list.npy', allow_pickle=True).tolist()\n",
    "\n",
    "models = ['Model 1','Model 2','Model 3','Model 4','Model 5','Model 6','Model 7','Model 8']"
   ]
  },
  {
   "cell_type": "markdown",
   "metadata": {},
   "source": [
    "Display Logistic Regression Confusion Matrices"
   ]
  },
  {
   "cell_type": "code",
   "execution_count": null,
   "metadata": {},
   "outputs": [],
   "source": [
    "r = [0, 1]\n",
    "u = [0, 0.2, 0.4, 0.6, 0.8, 1]\n",
    "barwidth = 0.8\n",
    "names = ['Bankrupt', 'Non-bankrupt']\n",
    "y_names = ['0%','20%','40%','60%','80%','100%']\n",
    "fig, ax = plt.subplots(1, 4, figsize=(12, 5), sharey=True)\n",
    "fig.tight_layout()\n",
    "fig.set_dpi(200)\n",
    "\n",
    "df = load(path+'output-log-reg.joblib')\n",
    "\n",
    "for i in range(0, 4):\n",
    "    tn = df[df.columns[i]]['heat_map_log_reg'][1][1]\n",
    "    tp = df[df.columns[i]]['heat_map_log_reg'][0][0]\n",
    "    fn = df[df.columns[i]]['heat_map_log_reg'][0][1]\n",
    "    fp = df[df.columns[i]]['heat_map_log_reg'][1][0]\n",
    "    \n",
    "    correct = [tn/(fn+tn), tp/(fp+tp)]\n",
    "    incorrect = [fn/(fn+tn), fp/(fp+tp)]\n",
    "    \n",
    "    b1 = ax[i].bar(r, correct, width=barwidth, color='grey', edgecolor='black')\n",
    "    b2 = ax[i].bar(r, incorrect, bottom=correct,  width=barwidth, color='white', edgecolor='black', hatch='//')\n",
    "    ax[i].set_xticks(r, names)\n",
    "    ax[i].set_xticklabels(names, rotation=45, ha='right', fontsize=12)\n",
    "    ax[i].set_yticks(u, y_names, fontsize=12)\n",
    "    ax[i].xaxis.set_label_position('top')\n",
    "    ax[i].set_xlabel(f'Model {i+1}', fontsize=12)\n",
    "    \n",
    "    rects = b1.patches\n",
    "    labels = ['TPR:\\n{:.4f}%'.format(round(correct[0]*100, 4)), 'TNR:\\n{:.4f}%'.format(round(correct[1]*100, 4))]\n",
    "    for rect, label in zip(rects, labels):\n",
    "        height = rect.get_height()\n",
    "        if height < 0.1:\n",
    "            ax[i].text(\n",
    "                rect.get_x() + rect.get_width() / 2, height + 0.03, label, ha=\"center\", va=\"bottom\", backgroundcolor='white'\n",
    "            )\n",
    "        else:\n",
    "            ax[i].text(\n",
    "                rect.get_x() + rect.get_width() / 2, height - 0.09, label, ha=\"center\", va=\"bottom\"\n",
    "            )\n",
    "        \n",
    "    print(f'TPR: {round(correct[0]*100)}% and FNR: {round(incorrect[0]*100)}%')\n",
    "    print(f'TNR: {round(correct[1]*100)}% and FPR: {round(incorrect[1]*100)}%')\n",
    "    \n",
    "plt.show()"
   ]
  },
  {
   "cell_type": "markdown",
   "metadata": {},
   "source": [
    "Create PRAUC"
   ]
  },
  {
   "cell_type": "code",
   "execution_count": null,
   "metadata": {},
   "outputs": [],
   "source": [
    "plt.rcParams.update({'font.size': 14})\n",
    "ax = plt.gca()\n",
    "fig = plt.gcf()\n",
    "fig.set_size_inches(6, 6)\n",
    "fig.set_dpi(200)\n",
    "df['Model 1']['log_reg_pr'].plot(ax=ax, color='black')\n",
    "df['Model 2']['log_reg_pr'].plot(ax=ax, color='grey')\n",
    "df['Model 3']['log_reg_pr'].plot(ax=ax, color='black', linestyle='dashed')\n",
    "df['Model 4']['log_reg_pr'].plot(ax=ax, color='grey', linestyle='dashed')\n",
    "names = []\n",
    "names.append(f'Logistic Regression (AP={round(df[\"Model 1\"][\"log_reg_pr\"].average_precision,4)})')\n",
    "names.append(f'Logistic Regression (AP={round(df[\"Model 2\"][\"log_reg_pr\"].average_precision,4)})')\n",
    "names.append(f'Logistic Regression (AP={round(df[\"Model 3\"][\"log_reg_pr\"].average_precision,4)})')\n",
    "names.append(f'Logistic Regression (AP={round(df[\"Model 4\"][\"log_reg_pr\"].average_precision,4)})')\n",
    "ax.legend(names, loc='upper left', bbox_to_anchor=(0.4, 1.15), framealpha=0.8)\n",
    "ax.set_xlabel('Recall')\n",
    "ax.set_ylabel('Precision')\n",
    "plt.show()\n",
    "plt.rcParams.update({'font.size': 10})"
   ]
  },
  {
   "cell_type": "code",
   "execution_count": null,
   "metadata": {},
   "outputs": [],
   "source": [
    "auroc = []\n",
    "model_list = []\n",
    "\n",
    "for j in range(0, 8):\n",
    "    model_list.append(load(f'F:/Marc/Github/Masterthesis Final/models/output-log-reg{j}.joblib'))\n",
    "\n",
    "for i, model in enumerate(model_list):\n",
    "    log_reg_display = RocCurveDisplay.from_estimator(model, X_list[i][1], y_true[i][1], ax=plt.gca())\n",
    "    auroc.append(log_reg_display.roc_auc)"
   ]
  },
  {
   "cell_type": "markdown",
   "metadata": {},
   "source": [
    "Print LR results per model"
   ]
  },
  {
   "cell_type": "code",
   "execution_count": null,
   "metadata": {},
   "outputs": [],
   "source": [
    "for i, model in enumerate(models):\n",
    "    print(f'{model} & {round(df[model][\"log_reg_pr\"].average_precision,4)} & {round(auroc[i],4)}\\\\\\\\')"
   ]
  },
  {
   "cell_type": "markdown",
   "metadata": {},
   "source": [
    "Display KNN Confusion Matrices"
   ]
  },
  {
   "cell_type": "code",
   "execution_count": null,
   "metadata": {},
   "outputs": [],
   "source": [
    "r = [0, 1]\n",
    "u = [0, 0.2, 0.4, 0.6, 0.8, 1]\n",
    "barwidth = 0.8\n",
    "names = ['Bankrupt', 'Non-bankrupt']\n",
    "y_names = ['0%','20%','40%','60%','80%','100%']\n",
    "fig, ax = plt.subplots(1, 4, figsize=(12, 5), sharey=True)\n",
    "fig.tight_layout()\n",
    "fig.set_dpi(200)\n",
    "\n",
    "df = load(path+'output-neigh.joblib')\n",
    "\n",
    "for i in range(0, 4):\n",
    "    tn = df[df.columns[i]]['heat_map_neigh'][1][1]\n",
    "    tp = df[df.columns[i]]['heat_map_neigh'][0][0]\n",
    "    fn = df[df.columns[i]]['heat_map_neigh'][0][1]\n",
    "    fp = df[df.columns[i]]['heat_map_neigh'][1][0]\n",
    "    \n",
    "    correct = [tn/(fn+tn), tp/(fp+tp)]\n",
    "    incorrect = [fn/(fn+tn), fp/(fp+tp)]\n",
    "    \n",
    "    b1 = ax[i].bar(r, correct, width=barwidth, color='grey', edgecolor='black')\n",
    "    b2 = ax[i].bar(r, incorrect, bottom=correct,  width=barwidth, color='white', edgecolor='black', hatch='//')\n",
    "    ax[i].set_xticks(r, names)\n",
    "    ax[i].set_xticklabels(names, rotation=45, ha='right', fontsize=12)\n",
    "    ax[i].set_yticks(u, y_names, fontsize=12)\n",
    "    ax[i].xaxis.set_label_position('top')\n",
    "    ax[i].set_xlabel(f'Model {i+1}', fontsize=12)\n",
    "    \n",
    "    rects = b1.patches\n",
    "    labels = ['TPR:\\n{:.4f}%'.format(round(correct[0]*100, 4)), 'TNR:\\n{:.4f}%'.format(round(correct[1]*100, 4))]\n",
    "    for rect, label in zip(rects, labels):\n",
    "        height = rect.get_height()\n",
    "        if height < 0.1:\n",
    "            ax[i].text(\n",
    "                rect.get_x() + rect.get_width() / 2, height + 0.03, label, ha=\"center\", va=\"bottom\", backgroundcolor='white'\n",
    "            )\n",
    "        else:\n",
    "            ax[i].text(\n",
    "                rect.get_x() + rect.get_width() / 2, height - 0.09, label, ha=\"center\", va=\"bottom\"\n",
    "            )\n",
    "    \n",
    "    print(f'TPR: {round(correct[0]*100)}% and FNR: {round(incorrect[0]*100)}%')\n",
    "    print(f'TNR: {round(correct[1]*100)}% and FPR: {round(incorrect[1]*100)}%')\n",
    "    \n",
    "plt.show()"
   ]
  },
  {
   "cell_type": "markdown",
   "metadata": {},
   "source": [
    "Create PRAUC"
   ]
  },
  {
   "cell_type": "code",
   "execution_count": null,
   "metadata": {},
   "outputs": [],
   "source": [
    "plt.rcParams.update({'font.size': 14})\n",
    "ax = plt.gca()\n",
    "fig = plt.gcf()\n",
    "fig.set_size_inches(6, 6)\n",
    "fig.set_dpi(200)\n",
    "df['Model 1']['neigh_pr'].plot(ax=ax, color='black')\n",
    "df['Model 2']['neigh_pr'].plot(ax=ax, color='grey')\n",
    "df['Model 3']['neigh_pr'].plot(ax=ax, color='black', linestyle='dashed')\n",
    "df['Model 4']['neigh_pr'].plot(ax=ax, color='grey', linestyle='dashed')\n",
    "names = []\n",
    "names.append(f'KNN (AP={round(df[\"Model 1\"][\"neigh_pr\"].average_precision,4)})')\n",
    "names.append(f'KNN (AP={round(df[\"Model 2\"][\"neigh_pr\"].average_precision,4)})')\n",
    "names.append(f'KNN (AP={round(df[\"Model 3\"][\"neigh_pr\"].average_precision,4)})')\n",
    "names.append(f'KNN (AP={round(df[\"Model 4\"][\"neigh_pr\"].average_precision,4)})')\n",
    "ax.legend(names, loc='upper left', bbox_to_anchor=(0.65, 1.15), framealpha=0.8)\n",
    "ax.set_xlabel('Recall')\n",
    "ax.set_ylabel('Precision')\n",
    "plt.show()\n",
    "plt.rcParams.update({'font.size': 10})"
   ]
  },
  {
   "cell_type": "code",
   "execution_count": null,
   "metadata": {},
   "outputs": [],
   "source": [
    "auroc = []\n",
    "model_list = []\n",
    "\n",
    "for j in range(0, 8):\n",
    "    model_list.append(load(f'F:/Marc/Github/Masterthesis Final/models/output-neigh{j}.joblib'))\n",
    "\n",
    "for i, model in enumerate(model_list):\n",
    "    log_reg_display = RocCurveDisplay.from_estimator(model, X_list[i][1], y_true[i][1], ax=plt.gca())\n",
    "    auroc.append(log_reg_display.roc_auc)"
   ]
  },
  {
   "cell_type": "markdown",
   "metadata": {},
   "source": [
    "Print KNN results per model"
   ]
  },
  {
   "cell_type": "code",
   "execution_count": null,
   "metadata": {},
   "outputs": [],
   "source": [
    "for i, model in enumerate(models):\n",
    "    print(f'{model} & {round(df[model][\"neigh_pr\"].average_precision,4)} & {round(auroc[i],4)}\\\\\\\\')"
   ]
  },
  {
   "cell_type": "markdown",
   "metadata": {},
   "source": [
    "Display Random Forest Confusion Matrices"
   ]
  },
  {
   "cell_type": "code",
   "execution_count": null,
   "metadata": {},
   "outputs": [],
   "source": [
    "r = [0, 1]\n",
    "u = [0, 0.2, 0.4, 0.6, 0.8, 1]\n",
    "barwidth = 0.8\n",
    "names = ['Bankrupt', 'Non-bankrupt']\n",
    "y_names = ['0%','20%','40%','60%','80%','100%']\n",
    "fig, ax = plt.subplots(1, 4, figsize=(12, 5), sharey=True)\n",
    "fig.tight_layout()\n",
    "fig.set_dpi(200)\n",
    "\n",
    "df = load(path+'output-rfc.joblib')\n",
    "\n",
    "for i in range(0, 4):\n",
    "    tn = df[df.columns[i]]['heat_map_rfc'][1][1]\n",
    "    tp = df[df.columns[i]]['heat_map_rfc'][0][0]\n",
    "    fn = df[df.columns[i]]['heat_map_rfc'][0][1]\n",
    "    fp = df[df.columns[i]]['heat_map_rfc'][1][0]\n",
    "    \n",
    "    correct = [tn/(fn+tn), tp/(fp+tp)]\n",
    "    incorrect = [fn/(fn+tn), fp/(fp+tp)]\n",
    "    \n",
    "    b1 = ax[i].bar(r, correct, width=barwidth, color='grey', edgecolor='black')\n",
    "    b2 = ax[i].bar(r, incorrect, bottom=correct,  width=barwidth, color='white', edgecolor='black', hatch='//')\n",
    "    ax[i].set_xticks(r, names)\n",
    "    ax[i].set_xticklabels(names, rotation=45, ha='right', fontsize=12)\n",
    "    ax[i].set_yticks(u, y_names, fontsize=12)\n",
    "    ax[i].xaxis.set_label_position('top')\n",
    "    ax[i].set_xlabel(f'Model {i+1}', fontsize=12)\n",
    "    \n",
    "    rects = b1.patches\n",
    "    labels = ['TPR:\\n{:.4f}%'.format(round(correct[0]*100, 4)), 'TNR:\\n{:.4f}%'.format(round(correct[1]*100, 4))]\n",
    "    for rect, label in zip(rects, labels):\n",
    "        height = rect.get_height()\n",
    "        if height < 0.1:\n",
    "            ax[i].text(\n",
    "                rect.get_x() + rect.get_width() / 2, height + 0.03, label, ha=\"center\", va=\"bottom\", backgroundcolor='white'\n",
    "            )\n",
    "        else:\n",
    "            ax[i].text(\n",
    "                rect.get_x() + rect.get_width() / 2, height - 0.09, label, ha=\"center\", va=\"bottom\"\n",
    "            )\n",
    "    \n",
    "    print(f'TPR: {round(correct[0]*100)}% and FNR: {round(incorrect[0]*100)}%')\n",
    "    print(f'TNR: {round(correct[1]*100)}% and FPR: {round(incorrect[1]*100)}%')\n",
    "    \n",
    "plt.show()"
   ]
  },
  {
   "cell_type": "markdown",
   "metadata": {},
   "source": [
    "Create PRAUC"
   ]
  },
  {
   "cell_type": "code",
   "execution_count": null,
   "metadata": {},
   "outputs": [],
   "source": [
    "plt.rcParams.update({'font.size': 14})\n",
    "ax = plt.gca()\n",
    "fig = plt.gcf()\n",
    "fig.set_size_inches(6, 6)\n",
    "fig.set_dpi(200)\n",
    "df['Model 1']['rfc_pr'].plot(ax=ax, color='black')\n",
    "df['Model 2']['rfc_pr'].plot(ax=ax, color='grey')\n",
    "df['Model 3']['rfc_pr'].plot(ax=ax, color='black', linestyle='dashed')\n",
    "df['Model 4']['rfc_pr'].plot(ax=ax, color='grey', linestyle='dashed')\n",
    "names = []\n",
    "names.append(f'Random Forest (AP={round(df[\"Model 1\"][\"rfc_pr\"].average_precision,4)})')\n",
    "names.append(f'Random Forest (AP={round(df[\"Model 2\"][\"rfc_pr\"].average_precision,4)})')\n",
    "names.append(f'Random Forest (AP={round(df[\"Model 3\"][\"rfc_pr\"].average_precision,4)})')\n",
    "names.append(f'Random Forest (AP={round(df[\"Model 4\"][\"rfc_pr\"].average_precision,4)})')\n",
    "ax.legend(names, loc='upper left', bbox_to_anchor=(0.425, 1.15), framealpha=0.8)\n",
    "ax.set_xlabel('Recall')\n",
    "ax.set_ylabel('Precision')\n",
    "plt.show()\n",
    "plt.rcParams.update({'font.size': 10})"
   ]
  },
  {
   "cell_type": "code",
   "execution_count": null,
   "metadata": {},
   "outputs": [],
   "source": [
    "auroc = []\n",
    "model_list = []\n",
    "\n",
    "for j in range(0, 8):\n",
    "    model_list.append(load(f'F:/Marc/Github/Masterthesis Final/models/output-rfc{j}.joblib'))\n",
    "\n",
    "for i, model in enumerate(model_list):\n",
    "    log_reg_display = RocCurveDisplay.from_estimator(model, X_list[i][1], y_true[i][1], ax=plt.gca())\n",
    "    auroc.append(log_reg_display.roc_auc)"
   ]
  },
  {
   "cell_type": "markdown",
   "metadata": {},
   "source": [
    "Print RF results per model"
   ]
  },
  {
   "cell_type": "code",
   "execution_count": null,
   "metadata": {},
   "outputs": [],
   "source": [
    "for i, model in enumerate(models):\n",
    "    print(f'{model} & {round(df[model][\"rfc_pr\"].average_precision,4)} & {round(auroc[i],4)}\\\\\\\\')"
   ]
  },
  {
   "cell_type": "markdown",
   "metadata": {},
   "source": [
    "Display SVM Confusion Matrices"
   ]
  },
  {
   "cell_type": "code",
   "execution_count": null,
   "metadata": {},
   "outputs": [],
   "source": [
    "r = [0, 1]\n",
    "u = [0, 0.2, 0.4, 0.6, 0.8, 1]\n",
    "barwidth = 0.8\n",
    "names = ['Bankrupt', 'Non-bankrupt']\n",
    "y_names = ['0%','20%','40%','60%','80%','100%']\n",
    "fig, ax = plt.subplots(1, 4, figsize=(12, 5), sharey=True)\n",
    "fig.tight_layout()\n",
    "fig.set_dpi(200)\n",
    "\n",
    "df = load(path+'output-svmc.joblib')\n",
    "\n",
    "for i in range(0, 4):\n",
    "    tn = df[df.columns[i]]['heat_map_svmc'][1][1]\n",
    "    tp = df[df.columns[i]]['heat_map_svmc'][0][0]\n",
    "    fn = df[df.columns[i]]['heat_map_svmc'][0][1]\n",
    "    fp = df[df.columns[i]]['heat_map_svmc'][1][0]\n",
    "    \n",
    "    correct = [tn/(fn+tn), tp/(fp+tp)]\n",
    "    incorrect = [fn/(fn+tn), fp/(fp+tp)]\n",
    "    \n",
    "    b1 = ax[i].bar(r, correct, width=barwidth, color='grey', edgecolor='black')\n",
    "    b2 = ax[i].bar(r, incorrect, bottom=correct,  width=barwidth, color='white', edgecolor='black', hatch='//')\n",
    "    ax[i].set_xticks(r, names)\n",
    "    ax[i].set_xticklabels(names, rotation=45, ha='right', fontsize=12)\n",
    "    ax[i].set_yticks(u, y_names, fontsize=12)\n",
    "    ax[i].xaxis.set_label_position('top')\n",
    "    ax[i].set_xlabel(f'Model {i+1}', fontsize=12)\n",
    "    \n",
    "    rects = b1.patches\n",
    "    labels = ['TPR:\\n{:.4f}%'.format(round(correct[0]*100, 4)), 'TNR:\\n{:.4f}%'.format(round(correct[1]*100, 4))]\n",
    "    for rect, label in zip(rects, labels):\n",
    "        height = rect.get_height()\n",
    "        if height < 0.1:\n",
    "            ax[i].text(\n",
    "                rect.get_x() + rect.get_width() / 2, height + 0.03, label, ha=\"center\", va=\"bottom\", backgroundcolor='white'\n",
    "            )\n",
    "        else:\n",
    "            ax[i].text(\n",
    "                rect.get_x() + rect.get_width() / 2, height - 0.09, label, ha=\"center\", va=\"bottom\"\n",
    "            )\n",
    "    \n",
    "    print(f'TPR: {round(correct[0]*100)}% and FNR: {round(incorrect[0]*100)}%')\n",
    "    print(f'TNR: {round(correct[1]*100)}% and FPR: {round(incorrect[1]*100)}%')\n",
    "    \n",
    "plt.show()"
   ]
  },
  {
   "cell_type": "markdown",
   "metadata": {},
   "source": [
    "Create PRAUC"
   ]
  },
  {
   "cell_type": "code",
   "execution_count": null,
   "metadata": {},
   "outputs": [],
   "source": [
    "plt.rcParams.update({'font.size': 14})\n",
    "ax = plt.gca()\n",
    "fig = plt.gcf()\n",
    "fig.set_size_inches(6, 6)\n",
    "fig.set_dpi(200)\n",
    "df['Model 1']['svmc_pr'].plot(ax=ax, color='black')\n",
    "df['Model 2']['svmc_pr'].plot(ax=ax, color='grey')\n",
    "df['Model 3']['svmc_pr'].plot(ax=ax, color='black', linestyle='dashed')\n",
    "df['Model 4']['svmc_pr'].plot(ax=ax, color='grey', linestyle='dashed')\n",
    "names = []\n",
    "names.append(f'SVM (AP={round(df[\"Model 1\"][\"svmc_pr\"].average_precision,4)})')\n",
    "names.append(f'SVM (AP={round(df[\"Model 2\"][\"svmc_pr\"].average_precision,4)})')\n",
    "names.append(f'SVM (AP={round(df[\"Model 3\"][\"svmc_pr\"].average_precision,4)})')\n",
    "names.append(f'SVM (AP={round(df[\"Model 4\"][\"svmc_pr\"].average_precision,4)})')\n",
    "ax.legend(names, loc='upper left', bbox_to_anchor=(0.65, 1.15), framealpha=0.8)\n",
    "ax.set_xlabel('Recall')\n",
    "ax.set_ylabel('Precision')\n",
    "plt.show()\n",
    "plt.rcParams.update({'font.size': 10})"
   ]
  },
  {
   "cell_type": "code",
   "execution_count": null,
   "metadata": {},
   "outputs": [],
   "source": [
    "auroc = []\n",
    "model_list = []\n",
    "\n",
    "for j in range(0, 8):\n",
    "    model_list.append(load(f'F:/Marc/Github/Masterthesis Final/models/output-svmc{j}.joblib'))\n",
    "\n",
    "for i, model in enumerate(model_list):\n",
    "    log_reg_display = RocCurveDisplay.from_estimator(model, X_list[i][1], y_true[i][1], ax=plt.gca())\n",
    "    auroc.append(log_reg_display.roc_auc)"
   ]
  },
  {
   "cell_type": "markdown",
   "metadata": {},
   "source": [
    "Print SVM results per model"
   ]
  },
  {
   "cell_type": "code",
   "execution_count": null,
   "metadata": {},
   "outputs": [],
   "source": [
    "for i, model in enumerate(models):\n",
    "    print(f'{model} & {round(df[model][\"svmc_pr\"].average_precision,4)} & {round(auroc[i],4)}\\\\\\\\')"
   ]
  },
  {
   "cell_type": "markdown",
   "metadata": {},
   "source": [
    "Display XGB Confusion Matrices"
   ]
  },
  {
   "cell_type": "code",
   "execution_count": null,
   "metadata": {},
   "outputs": [],
   "source": [
    "r = [0, 1]\n",
    "u = [0, 0.2, 0.4, 0.6, 0.8, 1]\n",
    "barwidth = 0.8\n",
    "names = ['Bankrupt', 'Non-bankrupt']\n",
    "y_names = ['0%','20%','40%','60%','80%','100%']\n",
    "fig, ax = plt.subplots(1, 4, figsize=(12, 5), sharey=True)\n",
    "fig.tight_layout()\n",
    "fig.set_dpi(200)\n",
    "\n",
    "df = load(path+'output-xgb.joblib')\n",
    "\n",
    "for i in range(0, 4):\n",
    "    tn = df[df.columns[i]]['heat_map_log_reg'][1][1]\n",
    "    tp = df[df.columns[i]]['heat_map_log_reg'][0][0]\n",
    "    fn = df[df.columns[i]]['heat_map_log_reg'][0][1]\n",
    "    fp = df[df.columns[i]]['heat_map_log_reg'][1][0]\n",
    "    \n",
    "    correct = [tn/(fn+tn), tp/(fp+tp)]\n",
    "    incorrect = [fn/(fn+tn), fp/(fp+tp)]\n",
    "    \n",
    "    b1 = ax[i].bar(r, correct, width=barwidth, color='grey', edgecolor='black')\n",
    "    b2 = ax[i].bar(r, incorrect, bottom=correct,  width=barwidth, color='white', edgecolor='black', hatch='//')\n",
    "    ax[i].set_xticks(r, names)\n",
    "    ax[i].set_xticklabels(names, rotation=45, ha='right', fontsize=12)\n",
    "    ax[i].set_yticks(u, y_names, fontsize=12)\n",
    "    ax[i].xaxis.set_label_position('top')\n",
    "    ax[i].set_xlabel(f'Model {i+1}', fontsize=12)\n",
    "    \n",
    "    rects = b1.patches\n",
    "    labels = ['TPR:\\n{:.4f}%'.format(round(correct[0]*100, 4)), 'TNR:\\n{:.4f}%'.format(round(correct[1]*100, 4))]\n",
    "    for rect, label in zip(rects, labels):\n",
    "        height = rect.get_height()\n",
    "        if height < 0.1:\n",
    "            ax[i].text(\n",
    "                rect.get_x() + rect.get_width() / 2, height + 0.03, label, ha=\"center\", va=\"bottom\", backgroundcolor='white'\n",
    "            )\n",
    "        else:\n",
    "            ax[i].text(\n",
    "                rect.get_x() + rect.get_width() / 2, height - 0.09, label, ha=\"center\", va=\"bottom\"\n",
    "            )\n",
    "    \n",
    "    print(f'TPR: {round(correct[0]*100)}% and FNR: {round(incorrect[0]*100)}%')\n",
    "    print(f'TNR: {round(correct[1]*100)}% and FPR: {round(incorrect[1]*100)}%')\n",
    "    \n",
    "plt.show()"
   ]
  },
  {
   "cell_type": "markdown",
   "metadata": {},
   "source": [
    "Create PRAUC"
   ]
  },
  {
   "cell_type": "code",
   "execution_count": null,
   "metadata": {},
   "outputs": [],
   "source": [
    "plt.rcParams.update({'font.size': 14})\n",
    "ax = plt.gca()\n",
    "fig = plt.gcf()\n",
    "fig.set_size_inches(6, 6)\n",
    "fig.set_dpi(200)\n",
    "df['Model 1']['xgb_pr'].plot(ax=ax, color='black')\n",
    "df['Model 2']['xgb_pr'].plot(ax=ax, color='grey')\n",
    "df['Model 3']['xgb_pr'].plot(ax=ax, color='black', linestyle='dashed')\n",
    "df['Model 4']['xgb_pr'].plot(ax=ax, color='grey', linestyle='dashed')\n",
    "names = []\n",
    "names.append(f'XGB (AP={round(df[\"Model 1\"][\"xgb_pr\"].average_precision,4)})')\n",
    "names.append(f'XGB (AP={round(df[\"Model 2\"][\"xgb_pr\"].average_precision,4)})')\n",
    "names.append(f'XGB (AP={round(df[\"Model 3\"][\"xgb_pr\"].average_precision,4)})')\n",
    "names.append(f'XGB (AP={round(df[\"Model 4\"][\"xgb_pr\"].average_precision,4)})')\n",
    "ax.legend(names, loc='upper left', bbox_to_anchor=(0.65, 1.15), framealpha=0.8)\n",
    "ax.set_xlabel('Recall')\n",
    "ax.set_ylabel('Precision')\n",
    "plt.show()\n",
    "plt.rcParams.update({'font.size': 10})"
   ]
  },
  {
   "cell_type": "code",
   "execution_count": null,
   "metadata": {},
   "outputs": [],
   "source": [
    "auroc = []\n",
    "model_list = []\n",
    "\n",
    "for j in range(0, 8):\n",
    "    model_list.append(load(f'F:/Marc/Github/Masterthesis Final/models/output-xgb{j}.joblib'))\n",
    "\n",
    "for i, model in enumerate(model_list):\n",
    "    log_reg_display = RocCurveDisplay.from_estimator(model, X_list[i][1], y_true[i][1], ax=plt.gca())\n",
    "    auroc.append(log_reg_display.roc_auc)"
   ]
  },
  {
   "cell_type": "markdown",
   "metadata": {},
   "source": [
    "Print XGB results per model"
   ]
  },
  {
   "cell_type": "code",
   "execution_count": null,
   "metadata": {},
   "outputs": [],
   "source": [
    "for i, model in enumerate(models):\n",
    "    print(f'{model} & {round(df[model][\"xgb_pr\"].average_precision,4)} & {round(auroc[i],4)}\\\\\\\\')"
   ]
  },
  {
   "cell_type": "markdown",
   "metadata": {},
   "source": [
    "Display LGBM Confusion Matrices"
   ]
  },
  {
   "cell_type": "code",
   "execution_count": null,
   "metadata": {},
   "outputs": [],
   "source": [
    "r = [0, 1]\n",
    "u = [0, 0.2, 0.4, 0.6, 0.8, 1]\n",
    "barwidth = 0.8\n",
    "names = ['Bankrupt', 'Non-bankrupt']\n",
    "y_names = ['0%','20%','40%','60%','80%','100%']\n",
    "fig, ax = plt.subplots(1, 4, figsize=(12, 5), sharey=True)\n",
    "fig.tight_layout()\n",
    "fig.set_dpi(200)\n",
    "\n",
    "df = load(path+'output-lgbm.joblib')\n",
    "\n",
    "for i in range(0, 4):\n",
    "    tn = df[df.columns[i]]['heat_map_lgbm'][1][1]\n",
    "    tp = df[df.columns[i]]['heat_map_lgbm'][0][0]\n",
    "    fn = df[df.columns[i]]['heat_map_lgbm'][0][1]\n",
    "    fp = df[df.columns[i]]['heat_map_lgbm'][1][0]\n",
    "    \n",
    "    correct = [tn/(fn+tn), tp/(fp+tp)]\n",
    "    incorrect = [fn/(fn+tn), fp/(fp+tp)]\n",
    "    \n",
    "    b1 = ax[i].bar(r, correct, width=barwidth, color='grey', edgecolor='black')\n",
    "    b2 = ax[i].bar(r, incorrect, bottom=correct,  width=barwidth, color='white', edgecolor='black', hatch='//')\n",
    "    ax[i].set_xticks(r, names)\n",
    "    ax[i].set_xticklabels(names, rotation=45, ha='right', fontsize=12)\n",
    "    ax[i].set_yticks(u, y_names, fontsize=12)\n",
    "    ax[i].xaxis.set_label_position('top')\n",
    "    ax[i].set_xlabel(f'Model {i+1}', fontsize=12)\n",
    "    \n",
    "    rects = b1.patches\n",
    "    labels = ['TPR:\\n{:.4f}%'.format(round(correct[0]*100, 4)), 'TNR:\\n{:.4f}%'.format(round(correct[1]*100, 4))]\n",
    "    for rect, label in zip(rects, labels):\n",
    "        height = rect.get_height()\n",
    "        if height < 0.1:\n",
    "            ax[i].text(\n",
    "                rect.get_x() + rect.get_width() / 2, height + 0.03, label, ha=\"center\", va=\"bottom\", backgroundcolor='white'\n",
    "            )\n",
    "        else:\n",
    "            ax[i].text(\n",
    "                rect.get_x() + rect.get_width() / 2, height - 0.09, label, ha=\"center\", va=\"bottom\"\n",
    "            )\n",
    "    \n",
    "    print(f'TPR: {round(correct[0]*100)}% and FNR: {round(incorrect[0]*100)}%')\n",
    "    print(f'TNR: {round(correct[1]*100)}% and FPR: {round(incorrect[1]*100)}%')\n",
    "    \n",
    "plt.show()"
   ]
  },
  {
   "cell_type": "markdown",
   "metadata": {},
   "source": [
    "Create PRAUC"
   ]
  },
  {
   "cell_type": "code",
   "execution_count": null,
   "metadata": {},
   "outputs": [],
   "source": [
    "plt.rcParams.update({'font.size': 14})\n",
    "ax = plt.gca()\n",
    "fig = plt.gcf()\n",
    "fig.set_size_inches(6, 6)\n",
    "fig.set_dpi(200)\n",
    "df['Model 1']['lgbm_pr'].plot(ax=ax, color='black')\n",
    "df['Model 2']['lgbm_pr'].plot(ax=ax, color='grey')\n",
    "df['Model 3']['lgbm_pr'].plot(ax=ax, color='black', linestyle='dashed')\n",
    "df['Model 4']['lgbm_pr'].plot(ax=ax, color='grey', linestyle='dashed')\n",
    "names = []\n",
    "names.append(f'LGBM (AP={round(df[\"Model 1\"][\"lgbm_pr\"].average_precision,4)})')\n",
    "names.append(f'LGBM (AP={round(df[\"Model 2\"][\"lgbm_pr\"].average_precision,4)})')\n",
    "names.append(f'LGBM (AP={round(df[\"Model 3\"][\"lgbm_pr\"].average_precision,4)})')\n",
    "names.append(f'LGBM (AP={round(df[\"Model 4\"][\"lgbm_pr\"].average_precision,4)})')\n",
    "ax.legend(names, loc='upper left', bbox_to_anchor=(0.65, 1.15), framealpha=0.8)\n",
    "ax.set_xlabel('Recall')\n",
    "ax.set_ylabel('Precision')\n",
    "plt.show()\n",
    "plt.rcParams.update({'font.size': 10})"
   ]
  },
  {
   "cell_type": "code",
   "execution_count": null,
   "metadata": {},
   "outputs": [],
   "source": [
    "auroc = []\n",
    "model_list = []\n",
    "\n",
    "for j in range(0, 8):\n",
    "    model_list.append(load(f'F:/Marc/Github/Masterthesis Final/models/output-lgbm{j}.joblib'))\n",
    "\n",
    "for i, model in enumerate(model_list):\n",
    "    log_reg_display = RocCurveDisplay.from_estimator(model, X_list[i][1], y_true[i][1], ax=plt.gca())\n",
    "    auroc.append(log_reg_display.roc_auc)"
   ]
  },
  {
   "cell_type": "markdown",
   "metadata": {},
   "source": [
    "Print LGBM results per model"
   ]
  },
  {
   "cell_type": "code",
   "execution_count": null,
   "metadata": {},
   "outputs": [],
   "source": [
    "for i, model in enumerate(models):\n",
    "    print(f'{model} & {round(df[model][\"lgbm_pr\"].average_precision,4)} & {round(auroc[i],4)}\\\\\\\\')"
   ]
  }
 ],
 "metadata": {
  "interpreter": {
   "hash": "aef203514c858290544fd6a14248b5f64855080360fc299c24eb5474b48fd873"
  },
  "kernelspec": {
   "display_name": "Python 3.9.7 ('venv': venv)",
   "language": "python",
   "name": "python3"
  },
  "language_info": {
   "codemirror_mode": {
    "name": "ipython",
    "version": 3
   },
   "file_extension": ".py",
   "mimetype": "text/x-python",
   "name": "python",
   "nbconvert_exporter": "python",
   "pygments_lexer": "ipython3",
   "version": "3.9.7"
  },
  "orig_nbformat": 4
 },
 "nbformat": 4,
 "nbformat_minor": 2
}
