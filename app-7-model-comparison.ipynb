{
 "cells": [
  {
   "cell_type": "markdown",
   "metadata": {},
   "source": [
    "Load modules"
   ]
  },
  {
   "cell_type": "code",
   "execution_count": null,
   "metadata": {},
   "outputs": [],
   "source": [
    "from mlxtend.evaluate import combined_ftest_5x2cv\n",
    "from itertools import combinations\n",
    "from joblib import load\n",
    "import pandas as pd\n",
    "import numpy as np\n",
    "import warnings\n",
    "warnings.filterwarnings(action=\"ignore\")"
   ]
  },
  {
   "cell_type": "markdown",
   "metadata": {},
   "source": [
    "Define path"
   ]
  },
  {
   "cell_type": "code",
   "execution_count": null,
   "metadata": {},
   "outputs": [],
   "source": [
    "path = 'F:/Marc/Github/Masterthesis Final/models/'"
   ]
  },
  {
   "cell_type": "markdown",
   "metadata": {},
   "source": [
    "Load the trained models"
   ]
  },
  {
   "cell_type": "code",
   "execution_count": null,
   "metadata": {},
   "outputs": [],
   "source": [
    "lr_model = load(path+'output-log-reg0.joblib')\n",
    "knn_model = load(path+'output-neigh0.joblib')\n",
    "rf_model = load(path+'output-rfc0.joblib')\n",
    "svm_model = load(path+'output-svmc0.joblib')\n",
    "xgb_model = load(path+'output-xgb0.joblib')\n",
    "lgbm_model = load(path+'output-lgbm0.joblib')\n",
    "\n",
    "model_list = [(lr_model, 'LR'), (knn_model, 'KNN'), (rf_model, 'RF'), (svm_model, 'SVM'), (xgb_model, 'XGB'), (lgbm_model, 'LGBM')]"
   ]
  },
  {
   "cell_type": "markdown",
   "metadata": {},
   "source": [
    "Load the X and y lists"
   ]
  },
  {
   "cell_type": "code",
   "execution_count": null,
   "metadata": {},
   "outputs": [],
   "source": [
    "y_list = np.load('F:/Marc/Github/Masterthesis/quick_datasets/y_list.npy', allow_pickle=True).tolist()\n",
    "X_list = np.load('F:/Marc/Github/Masterthesis/quick_datasets/X_list.npy', allow_pickle=True).tolist()"
   ]
  },
  {
   "cell_type": "markdown",
   "metadata": {},
   "source": [
    "Perform 5x2cv F tests (all possible combinations)"
   ]
  },
  {
   "cell_type": "code",
   "execution_count": null,
   "metadata": {},
   "outputs": [],
   "source": [
    "for models in combinations(model_list, 2):\n",
    "    f, p = combined_ftest_5x2cv(estimator1=models[0][0], estimator2=models[1][0], X=X_list[0][1], y=y_list[0][1], random_seed=1, scoring='average_precision')\n",
    "\n",
    "    print(f'Combination of {models[0][1]} and {models[1][1]}')\n",
    "    print(f'F statistic: {round(f,4)}')\n",
    "    print(f'p value: {round(p,4)}')"
   ]
  },
  {
   "cell_type": "markdown",
   "metadata": {},
   "source": [
    "Compare complete model with macroeconomic model"
   ]
  },
  {
   "cell_type": "code",
   "execution_count": null,
   "metadata": {},
   "outputs": [],
   "source": [
    "lr_model2 = load(path+'output-log-reg1.joblib')\n",
    "knn_model2 = load(path+'output-neigh1.joblib')\n",
    "rf_model2 = load(path+'output-rfc1.joblib')\n",
    "svm_model2 = load(path+'output-svmc1.joblib')\n",
    "xgb_model2 = load(path+'output-xgb1.joblib')\n",
    "lgbm_model2 = load(path+'output-lgbm1.joblib')\n",
    "\n",
    "model_list2 = [(lr_model2, 'LR dynamic'), (knn_model2, 'KNN dynamic'), (rf_model2, 'RF dynamic'), (svm_model2, 'SVM dynamic'), (xgb_model2, 'XGB dynamic'), (lgbm_model2, 'LGBM dynamic')]"
   ]
  },
  {
   "cell_type": "markdown",
   "metadata": {},
   "source": [
    "Start 5x2cv F-test"
   ]
  },
  {
   "cell_type": "code",
   "execution_count": null,
   "metadata": {},
   "outputs": [],
   "source": [
    "for i, model in enumerate(model_list):\n",
    "    f, p = combined_ftest_5x2cv(estimator1=model[0], estimator2=model_list2[i][0], X=X_list[0][1], y=y_list[0][1], random_seed=1, scoring='average_precision')\n",
    "    \n",
    "    print(f'Combination of {model[1]} and {model_list2[i][1]}')\n",
    "    print(f'F statistic: {round(f,4)}')\n",
    "    print(f'p value: {round(p,4)}')"
   ]
  },
  {
   "cell_type": "code",
   "execution_count": null,
   "metadata": {},
   "outputs": [],
   "source": [
    "lr_model2 = load(path+'output-log-reg1.joblib')\n",
    "knn_model2 = load(path+'output-neigh1.joblib')\n",
    "rf_model2 = load(path+'output-rfc1.joblib')\n",
    "svm_model2 = load(path+'output-svmc1.joblib')\n",
    "xgb_model2 = load(path+'output-xgb1.joblib')\n",
    "lgbm_model2 = load(path+'output-lgbm1.joblib')\n",
    "\n",
    "model_list2 = [(lr_model2, 'LR macro'), (knn_model2, 'KNN macro'), (rf_model2, 'RF macro'), (svm_model2, 'SVM macro'), (xgb_model2, 'XGB macro'), (lgbm_model2, 'LGBM macro')]"
   ]
  }
 ],
 "metadata": {
  "interpreter": {
   "hash": "aef203514c858290544fd6a14248b5f64855080360fc299c24eb5474b48fd873"
  },
  "kernelspec": {
   "display_name": "Python 3.9.7 ('venv': venv)",
   "language": "python",
   "name": "python3"
  },
  "language_info": {
   "codemirror_mode": {
    "name": "ipython",
    "version": 3
   },
   "file_extension": ".py",
   "mimetype": "text/x-python",
   "name": "python",
   "nbconvert_exporter": "python",
   "pygments_lexer": "ipython3",
   "version": "3.9.7"
  },
  "orig_nbformat": 4
 },
 "nbformat": 4,
 "nbformat_minor": 2
}
